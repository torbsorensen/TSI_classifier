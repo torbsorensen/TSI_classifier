{
 "cells": [
  {
   "cell_type": "markdown",
   "id": "living-schema",
   "metadata": {},
   "source": [
    "# TSI Classifier, predictor\n",
    "\n",
    "This document is intended as a tool for applying a already-trained model to classify TSI images, and will have a minimum of code.\n",
    "\n",
    "The structure is as follows:\n",
    "\n",
    "* Importing packages\n",
    "* Load model\n",
    "* Predict on data\n",
    "* Choose filters\n",
    "* Move predicted files to labeled folders\n",
    "\n",
    "## Import packages"
   ]
  },
  {
   "cell_type": "code",
   "execution_count": 1,
   "id": "incorporate-player",
   "metadata": {},
   "outputs": [],
   "source": [
    "import tensorflow as tf\n",
    "from predict_functions import MassPredictor, FilterPredictions, ExportFilteredFiles, TrainingProgress, PredictImage, ShowPrediction"
   ]
  },
  {
   "cell_type": "markdown",
   "id": "blessed-prince",
   "metadata": {},
   "source": [
    "## Load model"
   ]
  },
  {
   "cell_type": "code",
   "execution_count": 2,
   "id": "boxed-lease",
   "metadata": {},
   "outputs": [],
   "source": [
    "model = tf.keras.models.load_model('saved_model/final_model')"
   ]
  },
  {
   "cell_type": "markdown",
   "id": "close-occasion",
   "metadata": {},
   "source": [
    "## Predict on data"
   ]
  },
  {
   "cell_type": "code",
   "execution_count": 2,
   "id": "9bfef453",
   "metadata": {},
   "outputs": [
    {
     "name": "stdout",
     "output_type": "stream",
     "text": [
      "Help on function MassPredictor in module predict_functions:\n",
      "\n",
      "MassPredictor(tar_files_path, predictions_path, model, excludelist=[])\n",
      "    Predicts classification of compressed TSI photos\n",
      "    \n",
      "    If 'excludelist' isn't defined, no files are excluded from prediction.\n",
      "    \n",
      "    Parameters\n",
      "    ----------\n",
      "    tar_files_path : str\n",
      "        The filepath to the compressed TSI photos. Photos are expected to be of\n",
      "        .jpg format compressed with a .tar.gz ending\n",
      "    \n",
      "    predictions_path : str\n",
      "        The filepath to where the CSV files containing the predictions are saved\n",
      "    \n",
      "    model : tf.keras.Model() class\n",
      "        The model to be used in predicting the photos\n",
      "    \n",
      "    excludelist : str, list of str, optional\n",
      "        Filenames of files that should not be predicted, e.g. other files in folder, files already \n",
      "        predicted or corrupted files (default is none)\n",
      "\n"
     ]
    }
   ],
   "source": [
    "help(MassPredictor)"
   ]
  },
  {
   "cell_type": "code",
   "execution_count": 3,
   "id": "beginning-thanksgiving",
   "metadata": {},
   "outputs": [
    {
     "name": "stdout",
     "output_type": "stream",
     "text": [
      "Predicting on 1 dataset(s): \n",
      " ['tsi20140723.tar.gz']\n",
      "1 / 1 : Predicting  tsi20140723.tar.gz\n"
     ]
    }
   ],
   "source": [
    "tar_files = \"data/to_be_predicted\"\n",
    "CSV_files = \"predictions/predictions_CSV\"\n",
    "\n",
    "MassPredictor(tar_files, CSV_files, model)"
   ]
  },
  {
   "cell_type": "markdown",
   "id": "permanent-stomach",
   "metadata": {},
   "source": [
    "## Choose filters"
   ]
  },
  {
   "cell_type": "code",
   "execution_count": 3,
   "id": "9afaff7d",
   "metadata": {},
   "outputs": [
    {
     "name": "stdout",
     "output_type": "stream",
     "text": [
      "Help on function FilterPredictions in module predict_functions:\n",
      "\n",
      "FilterPredictions(predicted_path, lower_limit, higher_limit=1.0, excludelist=[])\n",
      "    Reads predictions off CSV files and output the predicted files within defined \n",
      "    confidence limits.\n",
      "    \n",
      "    If 'higher_limit' isn't defined, the higher limit is set to 1.0, i.e. the highest \n",
      "    possible limit. \n",
      "    \n",
      "    If 'excludelist' isn't defined, no files are excluded from reading.\n",
      "    \n",
      "    Parameters\n",
      "    ----------\n",
      "    predicted_path : str\n",
      "        The filepath to where the CSV files containing the predictions are saved\n",
      "    \n",
      "    lower_limit : float\n",
      "        The lower confidence limit of the files included, should normally be between 0 and 1.\n",
      "    \n",
      "    higher_limit : float, optional\n",
      "        The higher confidence limit of the files included, should be above 0 and max 1 (default is 1.0)\n",
      "    \n",
      "    excludelist : str, list of str, optional\n",
      "        Filenames of files that should not be included, e.g. other files in folder, or corrupted files \n",
      "        (default is none)\n",
      "    \n",
      "    Outputs\n",
      "    ----------\n",
      "    fog_detections, ice_detections, no_detections\n",
      "    \n",
      "    fog_detections : list of str\n",
      "        List of images with fog detected within defined limits \n",
      "    \n",
      "    ice_detections : list of str\n",
      "        List of images with ice detected within defined limits \n",
      "    \n",
      "    no_detections : list of str\n",
      "        List of images with none detected within defined limits\n",
      "\n"
     ]
    }
   ],
   "source": [
    "help(FilterPredictions)"
   ]
  },
  {
   "cell_type": "code",
   "execution_count": 4,
   "id": "incredible-stephen",
   "metadata": {},
   "outputs": [
    {
     "name": "stdout",
     "output_type": "stream",
     "text": [
      "Number of detections with threshold between 30.0 % and  100.0 %: \n",
      "Fogbows: 262 \n",
      "Ice optics: 0 \n",
      "Nothing: 1178\n"
     ]
    }
   ],
   "source": [
    "min_confidence = 0.3\n",
    "max_confidence = 1.0\n",
    "excludelist=[]\n",
    "\n",
    "fog, ice, no = FilterPredictions(CSV_files, min_confidence, max_confidence, excludelist)"
   ]
  },
  {
   "cell_type": "markdown",
   "id": "bearing-finnish",
   "metadata": {},
   "source": [
    "## Move predicted files to labeled folders"
   ]
  },
  {
   "cell_type": "code",
   "execution_count": 4,
   "id": "b147d8bf",
   "metadata": {},
   "outputs": [
    {
     "name": "stdout",
     "output_type": "stream",
     "text": [
      "Help on function ExportFilteredFiles in module predict_functions:\n",
      "\n",
      "ExportFilteredFiles(tar_files_path, export_path, fog_detections, ice_detections, no_detections)\n",
      "    Copies the selected files from compressed tar.gz files to a new folder, sorted according \n",
      "    to classification.\n",
      "    \n",
      "    Parameters\n",
      "    ----------\n",
      "    tar_files_path : str\n",
      "        The filepath to the compressed TSI photos. Photos are expected to be of\n",
      "        .jpg format compressed with a .tar.gz ending\n",
      "    \n",
      "    export_path : str\n",
      "        The filepath where the photos are copied to. Folder should already exist. \n",
      "    \n",
      "    fog_detections : list of str\n",
      "        The list of fog detections outputted by FilterPredictions\n",
      "    \n",
      "    ice_detections : list of str\n",
      "        The list of ice detections outputted by FilterPredictions\n",
      "    \n",
      "    no_detections : list of str\n",
      "        The list of none detections outputted by FilterPredictions\n",
      "\n"
     ]
    }
   ],
   "source": [
    "help(ExportFilteredFiles)"
   ]
  },
  {
   "cell_type": "code",
   "execution_count": 5,
   "id": "accessory-amino",
   "metadata": {},
   "outputs": [
    {
     "name": "stdout",
     "output_type": "stream",
     "text": [
      "no_detections done\n",
      "ice_detections done\n",
      "fog_detections done\n"
     ]
    }
   ],
   "source": [
    "output_path = 'predictions/predicted_files'\n",
    "\n",
    "ExportFilteredFiles(tar_files, output_path, fog, ice, no)"
   ]
  },
  {
   "cell_type": "markdown",
   "id": "awful-fundamental",
   "metadata": {},
   "source": [
    " "
   ]
  }
 ],
 "metadata": {
  "kernelspec": {
   "display_name": "Python 3",
   "language": "python",
   "name": "python3"
  },
  "language_info": {
   "codemirror_mode": {
    "name": "ipython",
    "version": 3
   },
   "file_extension": ".py",
   "mimetype": "text/x-python",
   "name": "python",
   "nbconvert_exporter": "python",
   "pygments_lexer": "ipython3",
   "version": "3.8.10"
  }
 },
 "nbformat": 4,
 "nbformat_minor": 5
}
