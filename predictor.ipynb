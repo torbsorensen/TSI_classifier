{
 "cells": [
  {
   "cell_type": "markdown",
   "id": "living-schema",
   "metadata": {},
   "source": [
    "# TSI Classifier, predictor\n",
    "\n",
    "This document is intended as a tool for applying a already-trained model to classify TSI images, and will have a minimum of code.\n",
    "\n",
    "The structure is as follows:\n",
    "\n",
    "* Importing packages\n",
    "* Load model\n",
    "* Predict on data\n",
    "* Choose filters\n",
    "* Move predicted files to labeled folders\n",
    "\n",
    "## Import packages"
   ]
  },
  {
   "cell_type": "code",
   "execution_count": 1,
   "id": "incorporate-player",
   "metadata": {},
   "outputs": [],
   "source": [
    "import tensorflow as tf\n",
    "from predict_functions import MassPredictor, FilterPredictions, ExportFilteredFiles, TrainingProgress, PredictImage, ShowPrediction"
   ]
  },
  {
   "cell_type": "markdown",
   "id": "blessed-prince",
   "metadata": {},
   "source": [
    "## Load model"
   ]
  },
  {
   "cell_type": "code",
   "execution_count": 2,
   "id": "boxed-lease",
   "metadata": {},
   "outputs": [],
   "source": [
    "model = tf.keras.models.load_model('saved_model/final_model')"
   ]
  },
  {
   "cell_type": "markdown",
   "id": "close-occasion",
   "metadata": {},
   "source": [
    "## Predict on data"
   ]
  },
  {
   "cell_type": "code",
   "execution_count": 1,
   "id": "9bfef453",
   "metadata": {},
   "outputs": [],
   "source": [
    "#help(MassPredictor)"
   ]
  },
  {
   "cell_type": "code",
   "execution_count": 3,
   "id": "beginning-thanksgiving",
   "metadata": {},
   "outputs": [
    {
     "name": "stdout",
     "output_type": "stream",
     "text": [
      "Predicting on 1 dataset(s): \n",
      " ['tsi20140723.tar.gz']\n",
      "1 / 1 : Predicting  tsi20140723.tar.gz\n"
     ]
    }
   ],
   "source": [
    "tar_files = \"data/to_be_predicted\"\n",
    "CSV_files = \"predictions/predictions_CSV\"\n",
    "\n",
    "import os\n",
    "excludelist = ['temp','tsi20110730.tar.gz','tsi20110804.tar.gz','tsi20110704.tar.gz','tsi20150716.tar',\n",
    "               'tsi20130916.tar','tsi20110629.tar.gz','tsi20110710.tar.gz','tsi20110802.tar.gz','tsi20110717.tar.gz',\n",
    "               'tsi20110701.tar.gz','tsi20110707.tar.gz','tsi20110808.tar.gz','tsi20110711.tar.gz']\n",
    "alreadypred = os.listdir(CSV_files)\n",
    "alreadypred.remove('.ipynb_checkpoints')\n",
    "for CSV in alreadypred:\n",
    "    excludelist.append('tsi' + CSV[:-4] + '.tar.gz')\n",
    "    \n",
    "print('excluding:')\n",
    "print(excludelist)\n",
    "\n",
    "MassPredictor(tar_files, CSV_files, model,excludelist=excludelist)"
   ]
  },
  {
   "cell_type": "markdown",
   "id": "permanent-stomach",
   "metadata": {},
   "source": [
    "## Choose filters"
   ]
  },
  {
   "cell_type": "code",
   "execution_count": 2,
   "id": "9afaff7d",
   "metadata": {},
   "outputs": [],
   "source": [
    "#help(FilterPredictions)"
   ]
  },
  {
   "cell_type": "code",
   "execution_count": 4,
   "id": "incredible-stephen",
   "metadata": {},
   "outputs": [
    {
     "name": "stdout",
     "output_type": "stream",
     "text": [
      "Number of detections with threshold between 30.0 % and  100.0 %: \n",
      "Fogbows: 262 \n",
      "Ice optics: 0 \n",
      "Nothing: 1178\n"
     ]
    }
   ],
   "source": [
    "min_confidence = 0.3\n",
    "max_confidence = 1.0\n",
    "excludelist=[]\n",
    "\n",
    "fog, ice, no = FilterPredictions(CSV_files, min_confidence, max_confidence, excludelist)"
   ]
  },
  {
   "cell_type": "markdown",
   "id": "bearing-finnish",
   "metadata": {},
   "source": [
    "## Move predicted files to labeled folders"
   ]
  },
  {
   "cell_type": "code",
   "execution_count": 3,
   "id": "b147d8bf",
   "metadata": {},
   "outputs": [],
   "source": [
    "#help(ExportFilteredFiles)"
   ]
  },
  {
   "cell_type": "code",
   "execution_count": 5,
   "id": "accessory-amino",
   "metadata": {},
   "outputs": [
    {
     "name": "stdout",
     "output_type": "stream",
     "text": [
      "no_detections done\n",
      "ice_detections done\n",
      "fog_detections done\n"
     ]
    }
   ],
   "source": [
    "output_path = 'predictions/predicted_files'\n",
    "\n",
    "ExportFilteredFiles(tar_files, output_path, fog, ice, no)"
   ]
  },
  {
   "cell_type": "markdown",
   "id": "awful-fundamental",
   "metadata": {},
   "source": [
    " "
   ]
  }
 ],
 "metadata": {
  "kernelspec": {
   "display_name": "Python 3",
   "language": "python",
   "name": "python3"
  },
  "language_info": {
   "codemirror_mode": {
    "name": "ipython",
    "version": 3
   },
   "file_extension": ".py",
   "mimetype": "text/x-python",
   "name": "python",
   "nbconvert_exporter": "python",
   "pygments_lexer": "ipython3",
   "version": "3.8.10"
  }
 },
 "nbformat": 4,
 "nbformat_minor": 5
}
