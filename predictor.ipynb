{
 "cells": [
  {
   "cell_type": "markdown",
   "id": "naked-croatia",
   "metadata": {},
   "source": [
    "# TSI Classifier, predictor\n",
    "\n",
    "This document is intended as a tool for applying a already-trained model to classify TSI images, and will have a minimum of code.\n",
    "\n",
    "The structure is as follows:\n",
    "\n",
    "* Importing packages\n",
    "* Load model\n",
    "* Predict on data\n",
    "* Choose filters\n",
    "* Move predicted files to labeled folders\n",
    "\n",
    "## Import packages"
   ]
  },
  {
   "cell_type": "code",
   "execution_count": 1,
   "id": "derived-shakespeare",
   "metadata": {},
   "outputs": [],
   "source": [
    "import tensorflow as tf\n",
    "from predict_functions import MassPredictor, FilterPredictions, ExportFilteredFiles, TrainingProgress, PredictImage, ShowPrediction"
   ]
  },
  {
   "cell_type": "markdown",
   "id": "elder-priest",
   "metadata": {},
   "source": [
    "## Load model"
   ]
  },
  {
   "cell_type": "code",
   "execution_count": null,
   "id": "pharmaceutical-journey",
   "metadata": {},
   "outputs": [],
   "source": [
    "model = tf.keras.models.load_model('saved_model/T2_13F_9_run3_2')"
   ]
  },
  {
   "cell_type": "markdown",
   "id": "civilian-royal",
   "metadata": {},
   "source": [
    "## Predict on data"
   ]
  },
  {
   "cell_type": "code",
   "execution_count": null,
   "id": "french-opportunity",
   "metadata": {},
   "outputs": [],
   "source": [
    "tar_files = \"SENSE_REP_2021_data/ICECAPSarchive/tsi/raw\"\n",
    "CSV_files = \"predictions\"\n",
    "\n",
    "import os\n",
    "\n",
    "excludelist = []\n",
    "alreadypred = os.listdir(CSV_files)\n",
    "alreadypred.remove('.ipynb_checkpoints')\n",
    "for CSV in alreadypred:\n",
    "    excludelist.append('tsi' + CSV[:-4] + '.tar.gz')\n",
    "    \n",
    "print('excluding:')\n",
    "print(excludelist)\n",
    "\n",
    "MassPredictor(tar_files, CSV_files, model,excludelist=excludelist)\n",
    "\n",
    "!mkdir PREDICTION_DONE"
   ]
  },
  {
   "cell_type": "markdown",
   "id": "careful-poster",
   "metadata": {},
   "source": [
    "## Choose filters"
   ]
  },
  {
   "cell_type": "code",
   "execution_count": 7,
   "id": "nuclear-england",
   "metadata": {},
   "outputs": [
    {
     "name": "stdout",
     "output_type": "stream",
     "text": [
      "Number of detections with threshold between 30.0 % and  40.0 %: \n",
      "Fogbows: 3744 \n",
      "Ice optics: 4786 \n",
      "Nothing: 6074\n"
     ]
    }
   ],
   "source": [
    "CSV_files = \"predictions\"\n",
    "min_confidence = 0.3\n",
    "max_confidence = 0.4\n",
    "excludelist=['.ipynb_checkpoints']\n",
    "\n",
    "fog3040, ice3040, no3040 = FilterPredictions(CSV_files, min_confidence, max_confidence, excludelist)"
   ]
  },
  {
   "cell_type": "code",
   "execution_count": 8,
   "id": "funky-basin",
   "metadata": {},
   "outputs": [
    {
     "name": "stdout",
     "output_type": "stream",
     "text": [
      "Number of detections with threshold between 40.0 % and  50.0 %: \n",
      "Fogbows: 15483 \n",
      "Ice optics: 22412 \n",
      "Nothing: 33562\n"
     ]
    }
   ],
   "source": [
    "min_confidence = 0.4\n",
    "max_confidence = 0.5\n",
    "excludelist=['.ipynb_checkpoints']\n",
    "\n",
    "fog4050, ice4050, no4050 = FilterPredictions(CSV_files, min_confidence, max_confidence, excludelist)"
   ]
  },
  {
   "cell_type": "code",
   "execution_count": 9,
   "id": "plain-boxing",
   "metadata": {},
   "outputs": [
    {
     "name": "stdout",
     "output_type": "stream",
     "text": [
      "Number of detections with threshold between 50.0 % and  60.0 %: \n",
      "Fogbows: 106584 \n",
      "Ice optics: 126337 \n",
      "Nothing: 1075382\n"
     ]
    }
   ],
   "source": [
    "min_confidence = 0.5\n",
    "max_confidence = 0.6\n",
    "excludelist=['.ipynb_checkpoints']\n",
    "\n",
    "fog5060, ice5060, no5060 = FilterPredictions(CSV_files, min_confidence, max_confidence, excludelist)"
   ]
  },
  {
   "cell_type": "markdown",
   "id": "simple-listing",
   "metadata": {},
   "source": [
    "## Move predicted files to labeled folders"
   ]
  },
  {
   "cell_type": "code",
   "execution_count": null,
   "id": "ruled-titanium",
   "metadata": {},
   "outputs": [
    {
     "data": {
      "application/vnd.jupyter.widget-view+json": {
       "model_id": "63e382516c9c455588e70fce26fdc204",
       "version_major": 2,
       "version_minor": 0
      },
      "text/plain": [
       "  0%|          | 0/1222 [00:00<?, ?it/s]"
      ]
     },
     "metadata": {},
     "output_type": "display_data"
    }
   ],
   "source": [
    "tar_files = \"SENSE_REP_2021_data/ICECAPSarchive/tsi/raw\"\n",
    "output_path = 'FINAL_predicted_TSI'\n",
    "\n",
    "ExportFilteredFiles(tar_files, output_path, fog3040, ice3040, no3040, fog4050, ice4050, no4050, fog5060, ice5060, no5060)"
   ]
  },
  {
   "cell_type": "markdown",
   "id": "arctic-might",
   "metadata": {},
   "source": [
    " "
   ]
  }
 ],
 "metadata": {
  "kernelspec": {
   "display_name": "Python 3",
   "language": "python",
   "name": "python3"
  },
  "language_info": {
   "codemirror_mode": {
    "name": "ipython",
    "version": 3
   },
   "file_extension": ".py",
   "mimetype": "text/x-python",
   "name": "python",
   "nbconvert_exporter": "python",
   "pygments_lexer": "ipython3",
   "version": "3.7.10"
  }
 },
 "nbformat": 4,
 "nbformat_minor": 5
}
